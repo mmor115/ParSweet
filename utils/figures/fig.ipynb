{
 "cells": [
  {
   "cell_type": "code",
   "execution_count": null,
   "id": "initial_id",
   "metadata": {
    "collapsed": true
   },
   "outputs": [],
   "source": [
    "import matplotlib.pyplot as plt\n",
    "import numpy as np\n",
    "import pandas as pd"
   ]
  },
  {
   "cell_type": "code",
   "outputs": [],
   "source": [
    "def plot_grouped_bar_chart(data, bar_labels, group_labels, title=\"\", xlabel=\"\", ylabel=\"\", bar_width=0.35, figsize=None, legend=True, font_size=None, use_bar_labels=False):\n",
    "    if font_size is not None:\n",
    "        plt.rcParams.update({'font.size': font_size})\n",
    "        \n",
    "    fig = plt.figure(figsize=figsize)\n",
    "    \n",
    "    num_bars_per_group = len(data)\n",
    "    num_groups = len(data[0])\n",
    "\n",
    "    y = np.arange(num_groups)\n",
    "\n",
    "    cmap = plt.get_cmap('jet')\n",
    "    colors = cmap(np.linspace(0, 1.0, num_bars_per_group))\n",
    "    hatches = ['/', '\\\\' , '|', '-', '+', 'x', 'o', 'O', '.', '*',\n",
    "               '//', '\\\\\\\\' , '||', '--', '++', 'xx', 'oo', 'O0', '..', '**']\n",
    "    for bar_n in range(num_bars_per_group):\n",
    "        bars = plt.barh(\n",
    "            y + bar_n * bar_width, \n",
    "            width=data[bar_n], \n",
    "            height=bar_width, \n",
    "            label=bar_labels[bar_n], \n",
    "            hatch=hatches[bar_n], \n",
    "            color=colors[bar_n], \n",
    "            edgecolor='black'\n",
    "        )\n",
    "        \n",
    "        if use_bar_labels:\n",
    "            plt.bar_label(bars, labels=np.round(data[bar_n], 4), padding=8)\n",
    "        \n",
    "\n",
    "    plt.xlim(left=0.9)\n",
    "    plt.xlabel(xlabel)\n",
    "    plt.ylabel(ylabel)\n",
    "    #plt.title(title)\n",
    "    plt.yticks(y + bar_width * (num_bars_per_group - 1) / 2, group_labels, rotation=90)\n",
    "    if legend:\n",
    "        plt.legend()\n",
    "\n",
    "    plt.tight_layout()\n",
    "    plt.show()"
   ],
   "metadata": {
    "collapsed": false
   },
   "id": "a0a5724ad9d65d2d",
   "execution_count": null
  },
  {
   "cell_type": "code",
   "outputs": [],
   "source": [
    "tables = pd.read_csv(\"tables.csv\")"
   ],
   "metadata": {
    "collapsed": false
   },
   "id": "981fc397a0f00ade",
   "execution_count": null
  },
  {
   "cell_type": "code",
   "outputs": [],
   "source": [
    "tables"
   ],
   "metadata": {
    "collapsed": false
   },
   "id": "d64ae23f2205ef39",
   "execution_count": null
  },
  {
   "cell_type": "code",
   "outputs": [],
   "source": [
    "def normalize_within_group(df):\n",
    "    def normalize(group):\n",
    "        min_val = group.min()\n",
    "        max_val = group.max()\n",
    "        return 1 + (group - min_val) * (2 - 1) / (max_val - min_val)\n",
    "\n",
    "    df['normalized_result'] = df.groupby(['machine', 'bench'])['result'].transform(normalize)\n",
    "\n",
    "    return df"
   ],
   "metadata": {
    "collapsed": false
   },
   "id": "2490328726df9e05",
   "execution_count": null
  },
  {
   "cell_type": "code",
   "outputs": [],
   "source": [
    "normalize_within_group(tables)\n",
    "tables"
   ],
   "metadata": {
    "collapsed": false
   },
   "id": "e19d3ee9d05220b6",
   "execution_count": null
  },
  {
   "cell_type": "code",
   "outputs": [],
   "source": [
    "machines = list(tables['machine'].unique())\n",
    "benches = list(tables['bench'].unique())\n",
    "locks = list(tables['lock'].unique())\n",
    "\n",
    "print(f'Machines:  {machines}')\n",
    "print(f'Benches: {benches}')\n",
    "print(f'Locks: {locks}')"
   ],
   "metadata": {
    "collapsed": false
   },
   "id": "e0a39f7608f2ebff",
   "execution_count": null
  },
  {
   "cell_type": "code",
   "outputs": [],
   "source": [
    "grouped_data = dict()\n",
    "\n",
    "for bench in benches:\n",
    "    grouped_data[bench] = dict()\n",
    "    for lock in locks:\n",
    "        grouped_data[bench][lock] = list()\n",
    "        for machine in machines:\n",
    "            datum = tables.loc[(tables.bench == bench) & (tables.machine == machine) & (tables.lock == lock)].normalized_result\n",
    "            if datum.size > 0:\n",
    "                grouped_data[bench][lock].append(datum.values[0])\n",
    "            else:\n",
    "                grouped_data[bench][lock].append(0)\n",
    "        \n",
    "print(grouped_data)"
   ],
   "metadata": {
    "collapsed": false
   },
   "id": "14abff015cbff83f",
   "execution_count": null
  },
  {
   "cell_type": "code",
   "outputs": [],
   "source": [
    "plot_grouped_bar_chart(\n",
    "    [grouped_data['locks'][lock] for lock in locks],\n",
    "    locks,\n",
    "    machines,\n",
    "    \"Normalized Benchmark Performance (Locks)\",\n",
    "    \"Elapsed time, normalized\",\n",
    "    \"Machines\",\n",
    "    bar_width=0.06,\n",
    "    figsize=(10, 30),\n",
    "    legend=False,\n",
    "    font_size=35\n",
    ")"
   ],
   "metadata": {
    "collapsed": false
   },
   "id": "f66af391b2930978",
   "execution_count": null
  },
  {
   "cell_type": "code",
   "outputs": [],
   "source": [
    "plot_grouped_bar_chart(\n",
    "    [grouped_data['sets'][lock] for lock in locks],\n",
    "    locks,\n",
    "    machines,\n",
    "    \"Normalized Benchmark Performance (Sets)\",\n",
    "    \"Elapsed time, normalized\",\n",
    "    \"Machines\",\n",
    "    bar_width=0.06,\n",
    "    figsize=(10, 30),\n",
    "    legend=False,\n",
    "    font_size=35\n",
    ")"
   ],
   "metadata": {
    "collapsed": false
   },
   "id": "d94ceb004e7a7bd1",
   "execution_count": null
  },
  {
   "cell_type": "code",
   "outputs": [],
   "source": [
    "plot_grouped_bar_chart(\n",
    "    [grouped_data['maps'][lock] for lock in locks],\n",
    "    locks,\n",
    "    machines,\n",
    "    \"Normalized Benchmark Performance (Maps)\",\n",
    "    \"Elapsed time, normalized\",\n",
    "    \"Machines\",\n",
    "    bar_width=0.06,\n",
    "    figsize=(10, 30),\n",
    "    legend=False,\n",
    "    font_size=35\n",
    ")"
   ],
   "metadata": {
    "collapsed": false
   },
   "id": "60202f791f3825c6",
   "execution_count": null
  }
 ],
 "metadata": {
  "kernelspec": {
   "display_name": "Python 3",
   "language": "python",
   "name": "python3"
  },
  "language_info": {
   "codemirror_mode": {
    "name": "ipython",
    "version": 2
   },
   "file_extension": ".py",
   "mimetype": "text/x-python",
   "name": "python",
   "nbconvert_exporter": "python",
   "pygments_lexer": "ipython2",
   "version": "2.7.6"
  }
 },
 "nbformat": 4,
 "nbformat_minor": 5
}
